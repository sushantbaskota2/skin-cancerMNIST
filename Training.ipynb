{
 "cells": [
  {
   "cell_type": "code",
   "execution_count": 35,
   "metadata": {
    "_cell_guid": "b1076dfc-b9ad-4769-8c92-a6c4dae69d19",
    "_uuid": "8f2839f25d086af736a60e9eeb907d3b93b6e0e5"
   },
   "outputs": [],
   "source": [
    "import numpy as np\n",
    "import pandas as pd\n",
    "import os\n",
    "import pandas as pd\n",
    "from keras.utils import to_categorical\n",
    "from sklearn.model_selection import train_test_split"
   ]
  },
  {
   "cell_type": "code",
   "execution_count": 36,
   "metadata": {
    "_cell_guid": "79c7e3d0-c299-4dcb-8224-4455121ee9b0",
    "_uuid": "d629ff2d2480ee46fbb7e2d37f6b5fab8052498a",
    "scrolled": true
   },
   "outputs": [
    {
     "data": {
      "text/html": [
       "<div>\n",
       "<style scoped>\n",
       "    .dataframe tbody tr th:only-of-type {\n",
       "        vertical-align: middle;\n",
       "    }\n",
       "\n",
       "    .dataframe tbody tr th {\n",
       "        vertical-align: top;\n",
       "    }\n",
       "\n",
       "    .dataframe thead th {\n",
       "        text-align: right;\n",
       "    }\n",
       "</style>\n",
       "<table border=\"1\" class=\"dataframe\">\n",
       "  <thead>\n",
       "    <tr style=\"text-align: right;\">\n",
       "      <th></th>\n",
       "      <th>pixel0000</th>\n",
       "      <th>pixel0001</th>\n",
       "      <th>pixel0002</th>\n",
       "      <th>pixel0003</th>\n",
       "      <th>pixel0004</th>\n",
       "      <th>pixel0005</th>\n",
       "      <th>pixel0006</th>\n",
       "      <th>pixel0007</th>\n",
       "      <th>pixel0008</th>\n",
       "      <th>pixel0009</th>\n",
       "      <th>...</th>\n",
       "      <th>pixel2343</th>\n",
       "      <th>pixel2344</th>\n",
       "      <th>pixel2345</th>\n",
       "      <th>pixel2346</th>\n",
       "      <th>pixel2347</th>\n",
       "      <th>pixel2348</th>\n",
       "      <th>pixel2349</th>\n",
       "      <th>pixel2350</th>\n",
       "      <th>pixel2351</th>\n",
       "      <th>label</th>\n",
       "    </tr>\n",
       "  </thead>\n",
       "  <tbody>\n",
       "    <tr>\n",
       "      <th>0</th>\n",
       "      <td>192</td>\n",
       "      <td>153</td>\n",
       "      <td>193</td>\n",
       "      <td>195</td>\n",
       "      <td>155</td>\n",
       "      <td>192</td>\n",
       "      <td>197</td>\n",
       "      <td>154</td>\n",
       "      <td>185</td>\n",
       "      <td>202</td>\n",
       "      <td>...</td>\n",
       "      <td>173</td>\n",
       "      <td>124</td>\n",
       "      <td>138</td>\n",
       "      <td>183</td>\n",
       "      <td>147</td>\n",
       "      <td>166</td>\n",
       "      <td>185</td>\n",
       "      <td>154</td>\n",
       "      <td>177</td>\n",
       "      <td>2</td>\n",
       "    </tr>\n",
       "    <tr>\n",
       "      <th>1</th>\n",
       "      <td>25</td>\n",
       "      <td>14</td>\n",
       "      <td>30</td>\n",
       "      <td>68</td>\n",
       "      <td>48</td>\n",
       "      <td>75</td>\n",
       "      <td>123</td>\n",
       "      <td>93</td>\n",
       "      <td>126</td>\n",
       "      <td>158</td>\n",
       "      <td>...</td>\n",
       "      <td>60</td>\n",
       "      <td>39</td>\n",
       "      <td>55</td>\n",
       "      <td>25</td>\n",
       "      <td>14</td>\n",
       "      <td>28</td>\n",
       "      <td>25</td>\n",
       "      <td>14</td>\n",
       "      <td>27</td>\n",
       "      <td>2</td>\n",
       "    </tr>\n",
       "    <tr>\n",
       "      <th>2</th>\n",
       "      <td>192</td>\n",
       "      <td>138</td>\n",
       "      <td>153</td>\n",
       "      <td>200</td>\n",
       "      <td>145</td>\n",
       "      <td>163</td>\n",
       "      <td>201</td>\n",
       "      <td>142</td>\n",
       "      <td>160</td>\n",
       "      <td>206</td>\n",
       "      <td>...</td>\n",
       "      <td>167</td>\n",
       "      <td>129</td>\n",
       "      <td>143</td>\n",
       "      <td>159</td>\n",
       "      <td>124</td>\n",
       "      <td>142</td>\n",
       "      <td>136</td>\n",
       "      <td>104</td>\n",
       "      <td>117</td>\n",
       "      <td>2</td>\n",
       "    </tr>\n",
       "    <tr>\n",
       "      <th>3</th>\n",
       "      <td>38</td>\n",
       "      <td>19</td>\n",
       "      <td>30</td>\n",
       "      <td>95</td>\n",
       "      <td>59</td>\n",
       "      <td>72</td>\n",
       "      <td>143</td>\n",
       "      <td>103</td>\n",
       "      <td>119</td>\n",
       "      <td>171</td>\n",
       "      <td>...</td>\n",
       "      <td>44</td>\n",
       "      <td>26</td>\n",
       "      <td>36</td>\n",
       "      <td>25</td>\n",
       "      <td>12</td>\n",
       "      <td>17</td>\n",
       "      <td>25</td>\n",
       "      <td>12</td>\n",
       "      <td>15</td>\n",
       "      <td>2</td>\n",
       "    </tr>\n",
       "    <tr>\n",
       "      <th>4</th>\n",
       "      <td>158</td>\n",
       "      <td>113</td>\n",
       "      <td>139</td>\n",
       "      <td>194</td>\n",
       "      <td>144</td>\n",
       "      <td>174</td>\n",
       "      <td>215</td>\n",
       "      <td>162</td>\n",
       "      <td>191</td>\n",
       "      <td>225</td>\n",
       "      <td>...</td>\n",
       "      <td>209</td>\n",
       "      <td>166</td>\n",
       "      <td>185</td>\n",
       "      <td>172</td>\n",
       "      <td>135</td>\n",
       "      <td>149</td>\n",
       "      <td>109</td>\n",
       "      <td>78</td>\n",
       "      <td>92</td>\n",
       "      <td>2</td>\n",
       "    </tr>\n",
       "  </tbody>\n",
       "</table>\n",
       "<p>5 rows × 2353 columns</p>\n",
       "</div>"
      ],
      "text/plain": [
       "   pixel0000  pixel0001  pixel0002  pixel0003  pixel0004  pixel0005  \\\n",
       "0        192        153        193        195        155        192   \n",
       "1         25         14         30         68         48         75   \n",
       "2        192        138        153        200        145        163   \n",
       "3         38         19         30         95         59         72   \n",
       "4        158        113        139        194        144        174   \n",
       "\n",
       "   pixel0006  pixel0007  pixel0008  pixel0009  ...  pixel2343  pixel2344  \\\n",
       "0        197        154        185        202  ...        173        124   \n",
       "1        123         93        126        158  ...         60         39   \n",
       "2        201        142        160        206  ...        167        129   \n",
       "3        143        103        119        171  ...         44         26   \n",
       "4        215        162        191        225  ...        209        166   \n",
       "\n",
       "   pixel2345  pixel2346  pixel2347  pixel2348  pixel2349  pixel2350  \\\n",
       "0        138        183        147        166        185        154   \n",
       "1         55         25         14         28         25         14   \n",
       "2        143        159        124        142        136        104   \n",
       "3         36         25         12         17         25         12   \n",
       "4        185        172        135        149        109         78   \n",
       "\n",
       "   pixel2351  label  \n",
       "0        177      2  \n",
       "1         27      2  \n",
       "2        117      2  \n",
       "3         15      2  \n",
       "4         92      2  \n",
       "\n",
       "[5 rows x 2353 columns]"
      ]
     },
     "execution_count": 36,
     "metadata": {},
     "output_type": "execute_result"
    }
   ],
   "source": [
    "test = pd.read_csv('hmnist_28_28_RGB.csv')\n",
    "\n",
    "test.head()"
   ]
  },
  {
   "cell_type": "code",
   "execution_count": 37,
   "metadata": {
    "_uuid": "f774833872b30b34c4240026d900ec0fe4771963"
   },
   "outputs": [],
   "source": [
    "cancer_dict = {\n",
    "    0: 'Actinic keratoses',\n",
    "    1: 'Basal cell carcinoma',\n",
    "    2: 'Benign keratosis-like lesions ',\n",
    "    3: 'Dermatofibroma',\n",
    "    4: 'Melanocytic nevi',\n",
    "    5: 'Vascular lesions',\n",
    "    6: 'Melanoma',   \n",
    "}"
   ]
  },
  {
   "cell_type": "code",
   "execution_count": 38,
   "metadata": {
    "_uuid": "d62e7255ffc9fdc5efab144e8a1b2f70ac8d830e"
   },
   "outputs": [],
   "source": [
    "#input_shape = (28,28,3)\n",
    "X = test.iloc[:,0:-1]\n",
    "Y = test.iloc[:,-1]"
   ]
  },
  {
   "cell_type": "code",
   "execution_count": 39,
   "metadata": {
    "_uuid": "dbfe46c18ed0849ca39cce499bef23bd4fe89b48"
   },
   "outputs": [
    {
     "data": {
      "text/plain": [
       "((10015, 2352), (10015,))"
      ]
     },
     "execution_count": 39,
     "metadata": {},
     "output_type": "execute_result"
    }
   ],
   "source": [
    "X.shape, Y.shape"
   ]
  },
  {
   "cell_type": "code",
   "execution_count": 40,
   "metadata": {
    "_uuid": "e17ee61be28a2a2195baf60806c3d45898337c9c"
   },
   "outputs": [],
   "source": [
    "X = np.array(X)\n",
    "Y = np.array(Y)\n"
   ]
  },
  {
   "cell_type": "code",
   "execution_count": 41,
   "metadata": {
    "_uuid": "a5f0d3ffe6215f941dcb445ba2ca2a6b0c813617"
   },
   "outputs": [],
   "source": [
    "X = X.reshape(X.shape[0],28,28,3)"
   ]
  },
  {
   "cell_type": "code",
   "execution_count": 42,
   "metadata": {
    "_uuid": "6d982e62250f6d115fca94f6ba1fb49fc467bf0a"
   },
   "outputs": [],
   "source": [
    "trainX,testX,trainY,testY = train_test_split(X,Y,test_size=0.1,random_state=13)"
   ]
  },
  {
   "cell_type": "code",
   "execution_count": 43,
   "metadata": {
    "_uuid": "0e51f8dbdb808d385bcd39da1a9119ee81421bfe"
   },
   "outputs": [],
   "source": [
    "trainX = trainX.astype('float64') / 255.0\n",
    "testX =  testX.astype('float64') / 255.0"
   ]
  },
  {
   "cell_type": "code",
   "execution_count": 44,
   "metadata": {
    "_uuid": "a2eca76355963d46362dcf1f7808839b2dfc229a"
   },
   "outputs": [],
   "source": [
    "trainY = to_categorical(trainY)\n",
    "testY = to_categorical(testY)"
   ]
  },
  {
   "cell_type": "code",
   "execution_count": 45,
   "metadata": {
    "_uuid": "cf10fdaac0eab714d7f48d55cfdfc132d6240432"
   },
   "outputs": [],
   "source": [
    "from keras.layers import Flatten, Dense, Activation, Conv2D, MaxPooling2D, Dropout, BatchNormalization\n",
    "from keras.models import load_model, Sequential\n",
    "from keras.callbacks import EarlyStopping,ReduceLROnPlateau, ModelCheckpoint\n",
    "from keras.preprocessing.image import ImageDataGenerator\n",
    "\n",
    "datagen = ImageDataGenerator(rotation_range=25, width_shift_range=0.1,\n",
    "    height_shift_range=0.1, shear_range=0.2, zoom_range=0.2,\n",
    "    horizontal_flip=True, fill_mode=\"nearest\")\n",
    "def create_model():\n",
    "    model = Sequential()\n",
    "    model.add(Conv2D(32, (3,3), padding='same', input_shape=(28,28,3)))\n",
    "    model.add(Activation('relu'))\n",
    "    model.add(BatchNormalization())\n",
    "    model.add(MaxPooling2D(pool_size=(3,3)))\n",
    "    model.add(Conv2D(64, (3,3), padding='same'))\n",
    "    model.add(Activation('relu'))\n",
    "    model.add(BatchNormalization())\n",
    "    model.add(Conv2D(64, (3,3), padding='same'))\n",
    "    model.add(Activation('relu'))\n",
    "    model.add(BatchNormalization())\n",
    "    model.add(MaxPooling2D(pool_size=(2,2)))\n",
    "    model.add(Dropout(0.25))\n",
    "    model.add(Conv2D(128, (3,3), padding='same'))\n",
    "    model.add(Activation('relu'))\n",
    "    model.add(BatchNormalization())\n",
    "    model.add(Conv2D(128, (3,3), padding='same'))\n",
    "    model.add(Activation('relu'))\n",
    "    model.add(BatchNormalization())\n",
    "    model.add(MaxPooling2D(pool_size=(2,2)))\n",
    "    model.add(Dropout(0.25))\n",
    "    model.add(Flatten())\n",
    "    model.add(Dense(256))\n",
    "    model.add(Activation('relu'))\n",
    "    model.add(BatchNormalization())\n",
    "    model.add(Dropout(0.5))\n",
    "    model.add(Dense(7))\n",
    "    model.add(Activation('softmax'))\n",
    "    model.compile(loss='categorical_crossentropy', optimizer='RMSprop', metrics=['accuracy'])\n",
    "    return model\n",
    "\n",
    "model = create_model()\n",
    "\n",
    "datagen.fit(trainX)\n",
    "\n",
    "filepath = 'cancer.model'\n",
    "\n",
    "checkpoint = ModelCheckpoint(filepath, monitor='val_acc', verbose=1, save_best_only=True, mode='max')\n",
    "\n",
    "reduce_lr = ReduceLROnPlateau(monitor='val_acc', factor=0.5, patience=3, verbose=1, mode='max', min_lr=0.0001)\n",
    "\n",
    "callbacks_list = [checkpoint, reduce_lr]\n"
   ]
  },
  {
   "cell_type": "code",
   "execution_count": 46,
   "metadata": {
    "_uuid": "eaee7b43b4db955c05462c99fad950703b873fb3",
    "scrolled": true
   },
   "outputs": [
    {
     "name": "stdout",
     "output_type": "stream",
     "text": [
      "Train on 9013 samples, validate on 1002 samples\n",
      "Epoch 1/100\n",
      "9013/9013 [==============================] - 47s 5ms/step - loss: 1.4582 - acc: 0.5713 - val_loss: 3.0580 - val_acc: 0.6487\n",
      "Epoch 2/100\n",
      "9013/9013 [==============================] - 48s 5ms/step - loss: 0.9396 - acc: 0.6758 - val_loss: 1.4674 - val_acc: 0.4940\n",
      "Epoch 3/100\n",
      "9013/9013 [==============================] - 45s 5ms/step - loss: 0.8384 - acc: 0.7068 - val_loss: 1.1601 - val_acc: 0.6537\n",
      "Epoch 4/100\n",
      "9013/9013 [==============================] - 43s 5ms/step - loss: 0.7700 - acc: 0.7216 - val_loss: 0.9672 - val_acc: 0.6347\n",
      "Epoch 5/100\n",
      "9013/9013 [==============================] - 43s 5ms/step - loss: 0.7359 - acc: 0.7303 - val_loss: 1.3127 - val_acc: 0.6567\n",
      "Epoch 6/100\n",
      "9013/9013 [==============================] - 43s 5ms/step - loss: 0.7076 - acc: 0.7433 - val_loss: 1.4169 - val_acc: 0.6597\n",
      "Epoch 7/100\n",
      "9013/9013 [==============================] - 47s 5ms/step - loss: 0.6881 - acc: 0.7497 - val_loss: 0.8045 - val_acc: 0.6926\n",
      "Epoch 8/100\n",
      "9013/9013 [==============================] - 47s 5ms/step - loss: 0.6708 - acc: 0.7572 - val_loss: 0.7534 - val_acc: 0.7285\n",
      "Epoch 9/100\n",
      "9013/9013 [==============================] - 43s 5ms/step - loss: 0.6502 - acc: 0.7658 - val_loss: 1.0260 - val_acc: 0.6896\n",
      "Epoch 10/100\n",
      "9013/9013 [==============================] - 44s 5ms/step - loss: 0.6320 - acc: 0.7651 - val_loss: 0.6913 - val_acc: 0.7485\n",
      "Epoch 11/100\n",
      "9013/9013 [==============================] - 43s 5ms/step - loss: 0.6268 - acc: 0.7742 - val_loss: 0.9901 - val_acc: 0.6796\n",
      "Epoch 12/100\n",
      "9013/9013 [==============================] - 43s 5ms/step - loss: 0.6074 - acc: 0.7789 - val_loss: 0.7748 - val_acc: 0.7096\n",
      "Epoch 13/100\n",
      "9013/9013 [==============================] - 46s 5ms/step - loss: 0.5919 - acc: 0.7853 - val_loss: 0.8863 - val_acc: 0.6906\n",
      "Epoch 14/100\n",
      "9013/9013 [==============================] - 44s 5ms/step - loss: 0.5764 - acc: 0.7875 - val_loss: 0.6536 - val_acc: 0.7605\n",
      "Epoch 15/100\n",
      "9013/9013 [==============================] - 42s 5ms/step - loss: 0.5480 - acc: 0.7954 - val_loss: 0.7294 - val_acc: 0.7385\n",
      "Epoch 16/100\n",
      "9013/9013 [==============================] - 43s 5ms/step - loss: 0.5354 - acc: 0.8010 - val_loss: 1.2255 - val_acc: 0.6856\n",
      "Epoch 17/100\n",
      "9013/9013 [==============================] - 44s 5ms/step - loss: 0.5177 - acc: 0.8153 - val_loss: 0.8820 - val_acc: 0.7365\n",
      "Epoch 18/100\n",
      "9013/9013 [==============================] - 40s 4ms/step - loss: 0.4955 - acc: 0.8211 - val_loss: 3.0177 - val_acc: 0.6557\n",
      "Epoch 19/100\n",
      "9013/9013 [==============================] - 40s 4ms/step - loss: 0.4631 - acc: 0.8301 - val_loss: 0.6597 - val_acc: 0.7525\n",
      "Epoch 20/100\n",
      "9013/9013 [==============================] - 40s 4ms/step - loss: 0.4563 - acc: 0.8357 - val_loss: 0.6522 - val_acc: 0.7575\n",
      "Epoch 21/100\n",
      "9013/9013 [==============================] - 43s 5ms/step - loss: 0.4276 - acc: 0.8464 - val_loss: 4.3428 - val_acc: 0.6507\n",
      "Epoch 22/100\n",
      "9013/9013 [==============================] - 44s 5ms/step - loss: 0.4085 - acc: 0.8530 - val_loss: 0.7189 - val_acc: 0.7485\n",
      "Epoch 23/100\n",
      "9013/9013 [==============================] - 44s 5ms/step - loss: 0.3954 - acc: 0.8537 - val_loss: 2.7050 - val_acc: 0.6737\n",
      "Epoch 24/100\n",
      "9013/9013 [==============================] - 42s 5ms/step - loss: 0.3839 - acc: 0.8611 - val_loss: 0.9748 - val_acc: 0.7126\n",
      "Epoch 25/100\n",
      "9013/9013 [==============================] - 42s 5ms/step - loss: 0.3555 - acc: 0.8720 - val_loss: 1.1093 - val_acc: 0.6277\n",
      "Epoch 26/100\n",
      "9013/9013 [==============================] - 45s 5ms/step - loss: 0.3423 - acc: 0.8777 - val_loss: 0.7695 - val_acc: 0.7655\n",
      "Epoch 27/100\n",
      "9013/9013 [==============================] - 45s 5ms/step - loss: 0.3310 - acc: 0.8836 - val_loss: 0.8686 - val_acc: 0.7635\n",
      "Epoch 28/100\n",
      "9013/9013 [==============================] - 45s 5ms/step - loss: 0.3230 - acc: 0.8817 - val_loss: 1.1021 - val_acc: 0.6756\n",
      "Epoch 29/100\n",
      "9013/9013 [==============================] - 45s 5ms/step - loss: 0.3003 - acc: 0.8908 - val_loss: 1.1908 - val_acc: 0.6447\n",
      "Epoch 30/100\n",
      "9013/9013 [==============================] - 45s 5ms/step - loss: 0.3019 - acc: 0.8930 - val_loss: 1.2873 - val_acc: 0.6976\n",
      "Epoch 31/100\n",
      "9013/9013 [==============================] - 44s 5ms/step - loss: 0.2811 - acc: 0.9005 - val_loss: 1.8425 - val_acc: 0.6966\n",
      "Epoch 32/100\n",
      "9013/9013 [==============================] - 48s 5ms/step - loss: 0.2682 - acc: 0.9068 - val_loss: 1.1595 - val_acc: 0.7196\n",
      "Epoch 33/100\n",
      "9013/9013 [==============================] - 46s 5ms/step - loss: 0.2582 - acc: 0.9055 - val_loss: 0.7745 - val_acc: 0.7665\n",
      "Epoch 34/100\n",
      "9013/9013 [==============================] - 45s 5ms/step - loss: 0.2525 - acc: 0.9100 - val_loss: 0.9732 - val_acc: 0.7505\n",
      "Epoch 35/100\n",
      "9013/9013 [==============================] - 41s 5ms/step - loss: 0.2441 - acc: 0.9151 - val_loss: 0.8315 - val_acc: 0.7475\n",
      "Epoch 36/100\n",
      "9013/9013 [==============================] - 45s 5ms/step - loss: 0.2276 - acc: 0.9214 - val_loss: 0.8665 - val_acc: 0.7665\n",
      "Epoch 37/100\n",
      "9013/9013 [==============================] - 45s 5ms/step - loss: 0.2162 - acc: 0.9238 - val_loss: 1.0661 - val_acc: 0.7086\n",
      "Epoch 38/100\n",
      "9013/9013 [==============================] - 45s 5ms/step - loss: 0.2045 - acc: 0.9274 - val_loss: 1.1742 - val_acc: 0.7265\n",
      "Epoch 39/100\n",
      "9013/9013 [==============================] - 45s 5ms/step - loss: 0.2120 - acc: 0.9264 - val_loss: 1.1358 - val_acc: 0.7166\n",
      "Epoch 40/100\n",
      "9013/9013 [==============================] - 45s 5ms/step - loss: 0.2038 - acc: 0.9271 - val_loss: 1.7678 - val_acc: 0.6926\n",
      "Epoch 41/100\n",
      "9013/9013 [==============================] - 43s 5ms/step - loss: 0.2013 - acc: 0.9290 - val_loss: 1.4625 - val_acc: 0.6647\n",
      "Epoch 42/100\n",
      "9013/9013 [==============================] - 48s 5ms/step - loss: 0.2051 - acc: 0.9285 - val_loss: 1.8349 - val_acc: 0.6876\n",
      "Epoch 43/100\n",
      "9013/9013 [==============================] - 44s 5ms/step - loss: 0.1798 - acc: 0.9379 - val_loss: 1.1736 - val_acc: 0.7156\n",
      "Epoch 44/100\n",
      "9013/9013 [==============================] - 43s 5ms/step - loss: 0.1847 - acc: 0.9352 - val_loss: 1.1398 - val_acc: 0.7475\n",
      "Epoch 45/100\n",
      "9013/9013 [==============================] - 41s 5ms/step - loss: 0.1762 - acc: 0.9389 - val_loss: 0.9369 - val_acc: 0.7834\n",
      "Epoch 46/100\n",
      "9013/9013 [==============================] - 44s 5ms/step - loss: 0.1722 - acc: 0.9411 - val_loss: 1.3839 - val_acc: 0.6806\n",
      "Epoch 47/100\n",
      "9013/9013 [==============================] - 47s 5ms/step - loss: 0.1659 - acc: 0.9412 - val_loss: 1.0924 - val_acc: 0.7315\n",
      "Epoch 48/100\n",
      "9013/9013 [==============================] - 45s 5ms/step - loss: 0.1668 - acc: 0.9425 - val_loss: 1.1876 - val_acc: 0.7096\n",
      "Epoch 49/100\n",
      "9013/9013 [==============================] - 47s 5ms/step - loss: 0.1542 - acc: 0.9454 - val_loss: 1.0592 - val_acc: 0.7635\n",
      "Epoch 50/100\n",
      "9013/9013 [==============================] - 45s 5ms/step - loss: 0.1621 - acc: 0.9442 - val_loss: 0.8316 - val_acc: 0.7675\n",
      "Epoch 51/100\n",
      "9013/9013 [==============================] - 45s 5ms/step - loss: 0.1484 - acc: 0.9492 - val_loss: 1.1620 - val_acc: 0.7465\n",
      "Epoch 52/100\n",
      "9013/9013 [==============================] - 47s 5ms/step - loss: 0.1525 - acc: 0.9491 - val_loss: 0.8980 - val_acc: 0.7675\n",
      "Epoch 53/100\n",
      "9013/9013 [==============================] - 42s 5ms/step - loss: 0.1493 - acc: 0.9482 - val_loss: 1.4628 - val_acc: 0.7335\n",
      "Epoch 54/100\n",
      "9013/9013 [==============================] - 41s 5ms/step - loss: 0.1483 - acc: 0.9485 - val_loss: 1.0298 - val_acc: 0.7565\n",
      "Epoch 55/100\n",
      "9013/9013 [==============================] - 43s 5ms/step - loss: 0.1355 - acc: 0.9536 - val_loss: 1.1037 - val_acc: 0.7435\n",
      "Epoch 56/100\n",
      "9013/9013 [==============================] - 44s 5ms/step - loss: 0.1379 - acc: 0.9544 - val_loss: 1.0797 - val_acc: 0.7575\n",
      "Epoch 57/100\n",
      "9013/9013 [==============================] - 43s 5ms/step - loss: 0.1204 - acc: 0.9577 - val_loss: 1.5357 - val_acc: 0.7166\n",
      "Epoch 58/100\n",
      "9013/9013 [==============================] - 40s 4ms/step - loss: 0.1432 - acc: 0.9490 - val_loss: 0.9666 - val_acc: 0.7545\n",
      "Epoch 59/100\n",
      "9013/9013 [==============================] - 42s 5ms/step - loss: 0.1367 - acc: 0.9534 - val_loss: 1.0470 - val_acc: 0.7535\n",
      "Epoch 60/100\n"
     ]
    },
    {
     "name": "stdout",
     "output_type": "stream",
     "text": [
      "9013/9013 [==============================] - 44s 5ms/step - loss: 0.1263 - acc: 0.9564 - val_loss: 2.0673 - val_acc: 0.6307\n",
      "Epoch 61/100\n",
      "9013/9013 [==============================] - 46s 5ms/step - loss: 0.1285 - acc: 0.9550 - val_loss: 2.0272 - val_acc: 0.6986\n",
      "Epoch 62/100\n",
      "9013/9013 [==============================] - 45s 5ms/step - loss: 0.1244 - acc: 0.9567 - val_loss: 1.0443 - val_acc: 0.7525\n",
      "Epoch 63/100\n",
      "9013/9013 [==============================] - 45s 5ms/step - loss: 0.1190 - acc: 0.9609 - val_loss: 0.9419 - val_acc: 0.7695\n",
      "Epoch 64/100\n",
      "9013/9013 [==============================] - 42s 5ms/step - loss: 0.1241 - acc: 0.9575 - val_loss: 1.3265 - val_acc: 0.7216\n",
      "Epoch 65/100\n",
      "9013/9013 [==============================] - 46s 5ms/step - loss: 0.1156 - acc: 0.9597 - val_loss: 1.2597 - val_acc: 0.7535\n",
      "Epoch 66/100\n",
      "9013/9013 [==============================] - 44s 5ms/step - loss: 0.0991 - acc: 0.9666 - val_loss: 1.3161 - val_acc: 0.7535\n",
      "Epoch 67/100\n",
      "9013/9013 [==============================] - 44s 5ms/step - loss: 0.1157 - acc: 0.9616 - val_loss: 1.1874 - val_acc: 0.7645\n",
      "Epoch 68/100\n",
      "9013/9013 [==============================] - 43s 5ms/step - loss: 0.1165 - acc: 0.9602 - val_loss: 1.1213 - val_acc: 0.7335\n",
      "Epoch 69/100\n",
      "9013/9013 [==============================] - 43s 5ms/step - loss: 0.1036 - acc: 0.9657 - val_loss: 1.6409 - val_acc: 0.6697\n",
      "Epoch 70/100\n",
      "9013/9013 [==============================] - 44s 5ms/step - loss: 0.1122 - acc: 0.9612 - val_loss: 1.7097 - val_acc: 0.6697\n",
      "Epoch 71/100\n",
      "9013/9013 [==============================] - 44s 5ms/step - loss: 0.1137 - acc: 0.9644 - val_loss: 1.1378 - val_acc: 0.7645\n",
      "Epoch 72/100\n",
      "9013/9013 [==============================] - 43s 5ms/step - loss: 0.0968 - acc: 0.9685 - val_loss: 1.5284 - val_acc: 0.7116\n",
      "Epoch 73/100\n",
      "9013/9013 [==============================] - 44s 5ms/step - loss: 0.1068 - acc: 0.9629 - val_loss: 1.1303 - val_acc: 0.7545\n",
      "Epoch 74/100\n",
      "9013/9013 [==============================] - 44s 5ms/step - loss: 0.1062 - acc: 0.9656 - val_loss: 1.0954 - val_acc: 0.7575\n",
      "Epoch 75/100\n",
      "9013/9013 [==============================] - 44s 5ms/step - loss: 0.0981 - acc: 0.9667 - val_loss: 0.9916 - val_acc: 0.7685\n",
      "Epoch 76/100\n",
      "9013/9013 [==============================] - 43s 5ms/step - loss: 0.0991 - acc: 0.9655 - val_loss: 1.1014 - val_acc: 0.7515\n",
      "Epoch 77/100\n",
      "9013/9013 [==============================] - 43s 5ms/step - loss: 0.0954 - acc: 0.9676 - val_loss: 1.0851 - val_acc: 0.7645\n",
      "Epoch 78/100\n",
      "9013/9013 [==============================] - 42s 5ms/step - loss: 0.0932 - acc: 0.9707 - val_loss: 1.0835 - val_acc: 0.7545\n",
      "Epoch 79/100\n",
      "9013/9013 [==============================] - 42s 5ms/step - loss: 0.0938 - acc: 0.9688 - val_loss: 1.0836 - val_acc: 0.7675\n",
      "Epoch 80/100\n",
      "9013/9013 [==============================] - 42s 5ms/step - loss: 0.0915 - acc: 0.9706 - val_loss: 1.2252 - val_acc: 0.7645\n",
      "Epoch 81/100\n",
      "9013/9013 [==============================] - 42s 5ms/step - loss: 0.0893 - acc: 0.9688 - val_loss: 1.1690 - val_acc: 0.7535\n",
      "Epoch 82/100\n",
      "9013/9013 [==============================] - 42s 5ms/step - loss: 0.0958 - acc: 0.9689 - val_loss: 1.9918 - val_acc: 0.7026\n",
      "Epoch 83/100\n",
      "9013/9013 [==============================] - 42s 5ms/step - loss: 0.0993 - acc: 0.9685 - val_loss: 1.4086 - val_acc: 0.7315\n",
      "Epoch 84/100\n",
      "9013/9013 [==============================] - 42s 5ms/step - loss: 0.0838 - acc: 0.9731 - val_loss: 1.2092 - val_acc: 0.7615\n",
      "Epoch 85/100\n",
      "9013/9013 [==============================] - 42s 5ms/step - loss: 0.0888 - acc: 0.9715 - val_loss: 1.3065 - val_acc: 0.7435\n",
      "Epoch 86/100\n",
      "9013/9013 [==============================] - 42s 5ms/step - loss: 0.0894 - acc: 0.9708 - val_loss: 1.1950 - val_acc: 0.7505\n",
      "Epoch 87/100\n",
      "9013/9013 [==============================] - 42s 5ms/step - loss: 0.0881 - acc: 0.9723 - val_loss: 1.1930 - val_acc: 0.7685\n",
      "Epoch 88/100\n",
      "9013/9013 [==============================] - 42s 5ms/step - loss: 0.0873 - acc: 0.9723 - val_loss: 1.6097 - val_acc: 0.7066\n",
      "Epoch 89/100\n",
      "9013/9013 [==============================] - 42s 5ms/step - loss: 0.0899 - acc: 0.9722 - val_loss: 1.5921 - val_acc: 0.7335\n",
      "Epoch 90/100\n",
      "9013/9013 [==============================] - 41s 5ms/step - loss: 0.0704 - acc: 0.9755 - val_loss: 1.1647 - val_acc: 0.7635\n",
      "Epoch 91/100\n",
      "9013/9013 [==============================] - 42s 5ms/step - loss: 0.0823 - acc: 0.9736 - val_loss: 1.3344 - val_acc: 0.7565\n",
      "Epoch 92/100\n",
      "9013/9013 [==============================] - 41s 5ms/step - loss: 0.0786 - acc: 0.9751 - val_loss: 1.1625 - val_acc: 0.7675\n",
      "Epoch 93/100\n",
      "9013/9013 [==============================] - 41s 5ms/step - loss: 0.0849 - acc: 0.9710 - val_loss: 1.6937 - val_acc: 0.7325\n",
      "Epoch 94/100\n",
      "9013/9013 [==============================] - 41s 4ms/step - loss: 0.0767 - acc: 0.9741 - val_loss: 1.3544 - val_acc: 0.7725\n",
      "Epoch 95/100\n",
      "9013/9013 [==============================] - 41s 4ms/step - loss: 0.0815 - acc: 0.9736 - val_loss: 1.6746 - val_acc: 0.7066\n",
      "Epoch 96/100\n",
      "9013/9013 [==============================] - 40s 4ms/step - loss: 0.0805 - acc: 0.9733 - val_loss: 1.1224 - val_acc: 0.7625\n",
      "Epoch 97/100\n",
      "9013/9013 [==============================] - 40s 4ms/step - loss: 0.0816 - acc: 0.9708 - val_loss: 1.2486 - val_acc: 0.7575\n",
      "Epoch 98/100\n",
      "9013/9013 [==============================] - 41s 5ms/step - loss: 0.0821 - acc: 0.9750 - val_loss: 1.5173 - val_acc: 0.7375\n",
      "Epoch 99/100\n",
      "9013/9013 [==============================] - 41s 5ms/step - loss: 0.0732 - acc: 0.9775 - val_loss: 1.4152 - val_acc: 0.7265\n",
      "Epoch 100/100\n",
      "9013/9013 [==============================] - 41s 5ms/step - loss: 0.0830 - acc: 0.9717 - val_loss: 1.5017 - val_acc: 0.7206\n"
     ]
    }
   ],
   "source": [
    "\n",
    "history= model.fit(trainX, trainY,\n",
    "          batch_size=32,\n",
    "          epochs=100,\n",
    "          verbose=1,\n",
    "          validation_data=(testX, testY),shuffle=True)"
   ]
  },
  {
   "cell_type": "code",
   "execution_count": 47,
   "metadata": {},
   "outputs": [
    {
     "name": "stdout",
     "output_type": "stream",
     "text": [
      "dict_keys(['val_loss', 'val_acc', 'loss', 'acc'])\n"
     ]
    },
    {
     "data": {
      "image/png": "[encoded data removed]",
      "text/plain": [
       "<Figure size 432x288 with 1 Axes>"
      ]
     },
     "metadata": {
      "needs_background": "light"
     },
     "output_type": "display_data"
    },
    {
     "data": {
      "image/png": "[encoded data removed]",
      "text/plain": [
       "<Figure size 432x288 with 1 Axes>"
      ]
     },
     "metadata": {
      "needs_background": "light"
     },
     "output_type": "display_data"
    }
   ],
   "source": [
    "import matplotlib.pyplot as plt\n",
    "print(history.history.keys())\n",
    "\n",
    "plt.plot(history.history['acc'])\n",
    "plt.plot(history.history['val_acc'])\n",
    "plt.title('model accuracy')\n",
    "plt.ylabel('accuracy')\n",
    "plt.xlabel('epoch')\n",
    "plt.legend(['train', 'test'], loc='upper left')\n",
    "plt.show()\n",
    "\n",
    "plt.plot(history.history['loss'])\n",
    "plt.plot(history.history['val_loss'])\n",
    "plt.title('model loss')\n",
    "plt.ylabel('loss')\n",
    "plt.xlabel('epoch')\n",
    "plt.legend(['train', 'test'], loc='upper left')\n",
    "plt.show()"
   ]
  },
  {
   "cell_type": "code",
   "execution_count": 15,
   "metadata": {
    "_uuid": "6bd1ddf8424e94d7469d55aa38cf487b9df7e9fd"
   },
   "outputs": [],
   "source": [
    "# model.save('cancer.model')"
   ]
  },
  {
   "cell_type": "code",
   "execution_count": 24,
   "metadata": {
    "_uuid": "f43f40e8bcd563ef5df21bebb1bb19a17e257b2d"
   },
   "outputs": [],
   "source": [
    "pred = model.predict(trainX)\n",
    "from sklearn.metrics import accuracy_score"
   ]
  },
  {
   "cell_type": "code",
   "execution_count": 25,
   "metadata": {},
   "outputs": [
    {
     "data": {
      "text/plain": [
       "array([[1.0852193e-07, 5.4925949e-06, 2.4780605e-03, ..., 9.9667573e-01,\n",
       "        1.1739666e-06, 8.3939312e-04],\n",
       "       [1.3570501e-02, 4.6158205e-03, 1.3310739e-01, ..., 7.1877074e-01,\n",
       "        2.4085413e-04, 1.2966865e-01],\n",
       "       [2.5484660e-03, 5.9781078e-04, 6.6236180e-01, ..., 1.1340098e-01,\n",
       "        1.4139320e-04, 2.2091237e-01],\n",
       "       ...,\n",
       "       [1.9313566e-06, 2.6696857e-06, 1.7873019e-02, ..., 9.8147571e-01,\n",
       "        2.0473994e-06, 6.4439367e-04],\n",
       "       [1.5236954e-04, 1.8963608e-05, 5.8117205e-01, ..., 4.1775966e-01,\n",
       "        5.1849702e-06, 8.9050812e-04],\n",
       "       [5.6763714e-05, 4.0096143e-05, 9.8897189e-01, ..., 1.0536338e-02,\n",
       "        2.0300665e-06, 3.9287499e-04]], dtype=float32)"
      ]
     },
     "execution_count": 25,
     "metadata": {},
     "output_type": "execute_result"
    }
   ],
   "source": [
    "pred"
   ]
  },
  {
   "cell_type": "code",
   "execution_count": 26,
   "metadata": {},
   "outputs": [
    {
     "data": {
      "text/plain": [
       "array([[[0.2627451 , 0.12941176, 0.15294118],\n",
       "        [0.42745098, 0.24313725, 0.25490196],\n",
       "        [0.5372549 , 0.34117647, 0.35686275],\n",
       "        ...,\n",
       "        [0.45882353, 0.25098039, 0.27058824],\n",
       "        [0.32156863, 0.15686275, 0.16862745],\n",
       "        [0.14117647, 0.06666667, 0.07843137]],\n",
       "\n",
       "       [[0.36470588, 0.2       , 0.21176471],\n",
       "        [0.48627451, 0.27058824, 0.26666667],\n",
       "        [0.55686275, 0.33333333, 0.34117647],\n",
       "        ...,\n",
       "        [0.50588235, 0.29803922, 0.32156863],\n",
       "        [0.39607843, 0.2       , 0.19607843],\n",
       "        [0.25098039, 0.11764706, 0.1254902 ]],\n",
       "\n",
       "       [[0.44705882, 0.25098039, 0.26666667],\n",
       "        [0.54509804, 0.33333333, 0.34117647],\n",
       "        [0.59215686, 0.38039216, 0.41176471],\n",
       "        ...,\n",
       "        [0.53333333, 0.31372549, 0.3372549 ],\n",
       "        [0.47058824, 0.2745098 , 0.28235294],\n",
       "        [0.34901961, 0.18823529, 0.20392157]],\n",
       "\n",
       "       ...,\n",
       "\n",
       "       [[0.44313725, 0.29411765, 0.32941176],\n",
       "        [0.54901961, 0.39215686, 0.41960784],\n",
       "        [0.59607843, 0.44705882, 0.47843137],\n",
       "        ...,\n",
       "        [0.52941176, 0.28235294, 0.3372549 ],\n",
       "        [0.47058824, 0.25490196, 0.30588235],\n",
       "        [0.36470588, 0.17254902, 0.23137255]],\n",
       "\n",
       "       [[0.35686275, 0.21960784, 0.26666667],\n",
       "        [0.49411765, 0.34117647, 0.37647059],\n",
       "        [0.56862745, 0.40392157, 0.43529412],\n",
       "        ...,\n",
       "        [0.50196078, 0.25882353, 0.29803922],\n",
       "        [0.43137255, 0.22745098, 0.2745098 ],\n",
       "        [0.29411765, 0.14509804, 0.18431373]],\n",
       "\n",
       "       [[0.23137255, 0.1254902 , 0.16470588],\n",
       "        [0.41568627, 0.27058824, 0.30980392],\n",
       "        [0.5254902 , 0.36078431, 0.38431373],\n",
       "        ...,\n",
       "        [0.4627451 , 0.23921569, 0.2745098 ],\n",
       "        [0.35294118, 0.17254902, 0.20392157],\n",
       "        [0.21176471, 0.09803922, 0.1254902 ]]])"
      ]
     },
     "execution_count": 26,
     "metadata": {},
     "output_type": "execute_result"
    }
   ],
   "source": [
    "trainX[152]"
   ]
  },
  {
   "cell_type": "code",
   "execution_count": 33,
   "metadata": {
    "_uuid": "51314a981dd2385ba84140b45220fc486159c204"
   },
   "outputs": [
    {
     "data": {
      "image/png": "[encoded data removed]",
      "text/plain": [
       "<Figure size 432x288 with 1 Axes>"
      ]
     },
     "metadata": {
      "needs_background": "light"
     },
     "output_type": "display_data"
    }
   ],
   "source": [
    "\n",
    "testsub =2558\n",
    "plt.imshow(trainX[testsub].reshape(28,28,3), cmap='viridis')\n",
    "plt.title('Prediction: {} \\nTrue Value: {}'.format(cancer_dict[np.argmax(pred[testsub])], cancer_dict[np.argmax(trainY[testsub])]))\n",
    "plt.show()"
   ]
  },
  {
   "cell_type": "code",
   "execution_count": null,
   "metadata": {},
   "outputs": [],
   "source": []
  },
  {
   "cell_type": "code",
   "execution_count": null,
   "metadata": {},
   "outputs": [],
   "source": []
  }
 ],
 "metadata": {
  "kernelspec": {
   "display_name": "Python 3",
   "language": "python",
   "name": "python3"
  },
  "language_info": {
   "codemirror_mode": {
    "name": "ipython",
    "version": 3
   },
   "file_extension": ".py",
   "mimetype": "text/x-python",
   "name": "python",
   "nbconvert_exporter": "python",
   "pygments_lexer": "ipython3",
   "version": "3.6.8"
  }
 },
 "nbformat": 4,
 "nbformat_minor": 1
}
